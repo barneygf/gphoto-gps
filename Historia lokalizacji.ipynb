{
 "cells": [
  {
   "cell_type": "code",
   "execution_count": 34,
   "metadata": {
    "collapsed": true
   },
   "outputs": [],
   "source": [
    "import os\n",
    "import piexif  # maybe not needed\n",
    "import pandas as pd\n",
    "from fractions import Fraction\n",
    "from PIL import Image  # maybe not needed\n",
    "from datetime import datetime, timedelta\n",
    "import subprocess"
   ]
  },
  {
   "cell_type": "code",
   "execution_count": 63,
   "metadata": {},
   "outputs": [],
   "source": [
    "# Helper methods\n",
    "\n",
    "\n",
    "def make_photos_df(folder_path, file_extension='jpg'):\n",
    "    all_files_list = os.listdir(folder_path)\n",
    "    photos_files_list = [file for file in all_files_list if file.lower().split('.')[-1] == file_extension]\n",
    "    photos_datetime_list = []\n",
    "    for filename in photos_files_list:\n",
    "        datetime = piexif.load(folder_path + '\\\\' + filename)['Exif'][36867].decode(encoding='UTF-8')\n",
    "        photos_datetime_list.append(datetime)\n",
    "\n",
    "    photos_dict = {'filename': photos_files_list, 'datetime': photos_datetime_list}\n",
    "    photos_df = pd.DataFrame.from_dict(photos_dict)\n",
    "    photos_df['datetime'] = pd.to_datetime(photos_df['datetime'], format='%Y:%m:%d %H:%M:%S')\n",
    "\n",
    "    return photos_df\n",
    "\n",
    "\n",
    "def make_location_history_df(csv_file_path, delete_miliseconds=True):\n",
    "    ''' Temporary solution with .csv file '''\n",
    "    location_history_df = pd.read_csv(csv_file_path)\n",
    "    if delete_miliseconds:\n",
    "        location_history_df['datetime'] = location_history_df['datetime'].apply(lambda x: x.split('.')[0])\n",
    "    location_history_df['datetime'] = pd.to_datetime(location_history_df['datetime'], format='%Y-%m-%d %H:%M:%S')\n",
    "    return location_history_df\n",
    "\n",
    "\n",
    "def give_coordinate(coordinate_return, photo_datetime, location_df, time_column, lat_column, long_column):\n",
    "    location_df['new_time_diff'] = abs(location_df[time_column] - photo_datetime)\n",
    "    min_row_index = location_df['new_time_diff'].idxmin()\n",
    "\n",
    "    if coordinate_return == 'latitude':\n",
    "        return location_df[lat_column].loc[min_row_index]\n",
    "    elif coordinate_return == 'longitude':\n",
    "        return location_df[long_column].loc[min_row_index]\n",
    "    else:\n",
    "        return None\n",
    "\n",
    "\n",
    "def give_latitude(photo_datetime):\n",
    "    return give_coordinate(\n",
    "        coordinate_return='latitude',\n",
    "        photo_datetime=photo_datetime,\n",
    "        location_df=location_history_df,\n",
    "        time_column='datetime',\n",
    "        lat_column='latitude',\n",
    "        long_column='longitude'\n",
    "    )\n",
    "\n",
    "\n",
    "def give_longitude(photo_datetime):\n",
    "    return give_coordinate(\n",
    "        coordinate_return='longitude',\n",
    "        photo_datetime=photo_datetime,\n",
    "        location_df=location_history_df,\n",
    "        time_column='datetime',\n",
    "        lat_column='latitude',\n",
    "        long_column='longitude'\n",
    "    )\n",
    "\n",
    "\n",
    "def to_deg(value, loc):\n",
    "    \"\"\"convert decimal coordinates into degrees, munutes and seconds tuple\n",
    "    Keyword arguments: value is float gps-value, loc is direction list [\"S\", \"N\"] or [\"W\", \"E\"]\n",
    "    return: tuple like (25, 13, 48.343 ,'N')\n",
    "    \"\"\"\n",
    "    if value < 0:\n",
    "        loc_value = loc[0]\n",
    "    elif value > 0:\n",
    "        loc_value = loc[1]\n",
    "    else:\n",
    "        loc_value = \"\"\n",
    "    abs_value = abs(value)\n",
    "    deg =  int(abs_value)\n",
    "    t1 = (abs_value-deg)*60\n",
    "    min = int(t1)\n",
    "    sec = round((t1 - min)* 60, 5)\n",
    "    return (deg, min, sec, loc_value)\n",
    "\n",
    "\n",
    "def change_to_rational(number):\n",
    "    \"\"\"convert a number to rantional\n",
    "    Keyword arguments: number\n",
    "    return: tuple like (1, 2), (numerator, denominator)\n",
    "    \"\"\"\n",
    "    f = Fraction(str(number))\n",
    "    return (f.numerator, f.denominator)\n",
    "\n",
    "\n",
    "def change_datetime(path, forward=True, years=0, months=0, days=0, hours=0, minutes=0, seconds=0):\n",
    "    date_diff_list = [str(years), str(months), str(days)]\n",
    "    time_diff_list = [str(hours), str(minutes), str(seconds)]\n",
    "    datetime_diff = ':'.join(date_diff_list) + ' ' + ':'.join(time_diff_list)\n",
    "    \n",
    "    direction_operator = '+=' if forward==True else '-='\n",
    "    command_to_run = ['exiftool', '-AllDates' + direction_operator + datetime_diff, path, '-overwrite_original']\n",
    "    proc = subprocess.run(command_to_run, encoding='utf-8', stdout=subprocess.PIPE)\n",
    "    for line in proc.stdout.split('\\n'):\n",
    "        print(line)\n",
    "        \n",
    "        \n",
    "def pretty_print_dict(dictionary, indent=0):\n",
    "   for key, value in dictionary.items():\n",
    "      print('\\t' * indent + str(key))\n",
    "      if isinstance(value, dict):\n",
    "         pretty_print_dict(value, indent+1)\n",
    "      else:\n",
    "         print('\\t' * (indent+1) + str(value))"
   ]
  },
  {
   "cell_type": "code",
   "execution_count": null,
   "metadata": {},
   "outputs": [],
   "source": [
    "# Check exif of some image to test\n",
    "image_path = 'G:\\Moje obrazy\\Jordania - czerwiec 2019\\Aparat Panasonic — kopia\\P1150302.JPG'\n",
    "exif_dict = piexif.load(image_path)\n",
    "pretty_print_dict(dictionary=exif_dict)"
   ]
  },
  {
   "cell_type": "code",
   "execution_count": 66,
   "metadata": {},
   "outputs": [
    {
     "name": "stdout",
     "output_type": "stream",
     "text": [
      "    1 directories scanned\n",
      " 1089 image files updated\n",
      "\n"
     ]
    }
   ],
   "source": [
    "# Add some progress bar\n",
    "change_datetime(path='G:\\Moje obrazy\\Jordania - czerwiec 2019\\Aparat Panasonic — kopia', forward=True, minutes=50)"
   ]
  },
  {
   "cell_type": "code",
   "execution_count": null,
   "metadata": {
    "collapsed": true
   },
   "outputs": [],
   "source": []
  }
 ],
 "metadata": {
  "kernelspec": {
   "display_name": "Python 3",
   "language": "python",
   "name": "python3"
  },
  "language_info": {
   "codemirror_mode": {
    "name": "ipython",
    "version": 3
   },
   "file_extension": ".py",
   "mimetype": "text/x-python",
   "name": "python",
   "nbconvert_exporter": "python",
   "pygments_lexer": "ipython3",
   "version": "3.6.8"
  }
 },
 "nbformat": 4,
 "nbformat_minor": 2
}
